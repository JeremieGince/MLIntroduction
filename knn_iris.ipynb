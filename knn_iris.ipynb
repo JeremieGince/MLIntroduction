{
 "cells": [
  {
   "cell_type": "markdown",
   "metadata": {
    "collapsed": true,
    "pycharm": {
     "name": "#%% md\n"
    }
   },
   "source": [
    "# Classification Iris avec un K-NN"
   ]
  },
  {
   "cell_type": "markdown",
   "metadata": {
    "pycharm": {
     "name": "#%% md\n"
    }
   },
   "source": [
    "Quelques packages importants"
   ]
  },
  {
   "cell_type": "code",
   "execution_count": null,
   "metadata": {
    "pycharm": {
     "name": "#%%\n"
    }
   },
   "outputs": [],
   "source": [
    "import collections\n",
    "import matplotlib\n",
    "from matplotlib.colors import ListedColormap\n",
    "import matplotlib.pyplot as plt\n",
    "import numpy as np\n",
    "import seaborn as sns\n",
    "from sklearn import datasets, neighbors\n",
    "import pandas\n",
    "import time\n",
    "\n",
    "%matplotlib notebook\n",
    "plt.rcParams['figure.figsize'] = [10, 8]"
   ]
  },
  {
   "cell_type": "markdown",
   "metadata": {
    "pycharm": {
     "name": "#%% md\n"
    }
   },
   "source": [
    "Ici, on utilise le dataset Iris de sklearn. Il est formé de 150 fleurs dont chacune possède 4 caractéristiques différentes (sepal length en cm, sepal width en cm, petal length en cm et petal width en cm) et fait partie d'une classe distincte 'setosa', 'versicolor' ou 'virginica'."
   ]
  },
  {
   "cell_type": "code",
   "execution_count": null,
   "metadata": {
    "pycharm": {
     "name": "#%%\n"
    }
   },
   "outputs": [],
   "source": [
    "iris = datasets.load_iris(as_frame=True)\n",
    "X = iris.data\n",
    "y = iris.target\n",
    "\n",
    "print(f\"{X.shape = }, {y.shape = }\")\n",
    "print(f\"{np.unique(y) = }\")"
   ]
  },
  {
   "cell_type": "markdown",
   "metadata": {
    "pycharm": {
     "name": "#%% md\n"
    }
   },
   "source": [
    "Ensuite, on définit les hyperparamètres de notre K-NN."
   ]
  },
  {
   "cell_type": "code",
   "execution_count": null,
   "metadata": {},
   "outputs": [],
   "source": [
    "data_and_target = pandas.concat([iris.data, iris.target], axis=1)\n",
    "\n",
    "# Cette ligne crée une liste contenant toutes les paires possibles\n",
    "# entre les 4 mesures.\n",
    "# Par exemple : [(0, 1), (0, 2), (0, 3), (1, 2), (1, 3), (2, 3)]\n",
    "pairs = [(i, j) for i in range(4) for j in range(i+1, 4)]\n",
    "\n",
    "# Utilisons cette liste de paires pour afficher les données, deux\n",
    "# mesures à la fois.\n",
    "# On crée une figure à plusieurs sous-graphes.\n",
    "fig, subfigs = plt.subplots(2, 3, tight_layout=True)\n",
    "for (f1, f2), subfig in zip(pairs, subfigs.reshape(-1)):\n",
    "    # Affichez les données en utilisant f1 et f2 comme mesures\n",
    "    legend_label = [\"Iris Setosa\", \"Iris Versicolore\", \"Iris Virginia\"]\n",
    "    colors = ['#FF0000', '#f2faf5', '#0000FF']\n",
    "    \n",
    "    # Classe 0 - Iris Setosa\n",
    "    subfig.scatter(x = data_and_target[data_and_target['target'] == 0].iloc[:, [f1]].values, \n",
    "                   y = data_and_target[data_and_target['target'] == 0].iloc[:, [f2]].values,\n",
    "                   c = colors[0],\n",
    "                   edgecolor = 'k',\n",
    "                   label = legend_label[0]\n",
    "                  )\n",
    "    \n",
    "    # Classe 1 - Iris Versicolore\n",
    "    subfig.scatter(x = data_and_target[data_and_target['target'] == 1].iloc[:, [f1]].values, \n",
    "                   y = data_and_target[data_and_target['target'] == 1].iloc[:, [f2]].values,\n",
    "                   c = colors[1],\n",
    "                   edgecolor = 'k',\n",
    "                   label = legend_label[1]\n",
    "                  )\n",
    "    \n",
    "    # Classe 2 - Iris Virginia\n",
    "    subfig.scatter(x = data_and_target[data_and_target['target'] == 2].iloc[:, [f1]].values, \n",
    "                   y = data_and_target[data_and_target['target'] == 2].iloc[:, [f2]].values, \n",
    "                   c = colors[2],\n",
    "                   edgecolor = 'k',\n",
    "                   label = legend_label[2]\n",
    "                  )\n",
    "    \n",
    "    subfig.legend(fontsize=7)\n",
    "    \n",
    "    axis_label_list = ['Sepal length [cm]',\n",
    "                       'Sepal width [cm]',\n",
    "                       'Petal length [cm]',\n",
    "                       'Petal width [cm]'\n",
    "                      ]\n",
    "    \n",
    "    subfig.set_xlabel(xlabel = axis_label_list[f1])\n",
    "    subfig.set_ylabel(ylabel = axis_label_list[f2])\n"
   ]
  },
  {
   "cell_type": "code",
   "execution_count": null,
   "metadata": {
    "pycharm": {
     "name": "#%%\n"
    }
   },
   "outputs": [],
   "source": [
    "n_neighbors = 15\n",
    "weights = \"uniform\""
   ]
  },
  {
   "cell_type": "markdown",
   "metadata": {
    "pycharm": {
     "name": "#%% md\n"
    }
   },
   "source": [
    "Maintenant, on crée notre K-NN et on le fit (entraîne) sur les données d'Iris. À Noté que l'entraînement du K-NN est seulement une mise en mémoire des données, car le modèle de K-NN fait ses prédictions directement en comparant une nouvelle donnée avec celles du dataset."
   ]
  },
  {
   "cell_type": "code",
   "execution_count": null,
   "metadata": {
    "pycharm": {
     "name": "#%%\n"
    }
   },
   "outputs": [],
   "source": [
    "clf = neighbors.KNeighborsClassifier(n_neighbors, weights=weights)"
   ]
  },
  {
   "cell_type": "markdown",
   "metadata": {
    "pycharm": {
     "name": "#%% md\n"
    }
   },
   "source": [
    "Ici, on crée une petite fonction servant à afficher les frontières de décisions sur les caractéristiques des sépales. Il est à noter que le code pourrait facilement être modifié pour afficher les autres caractéristiques."
   ]
  },
  {
   "cell_type": "code",
   "execution_count": null,
   "metadata": {
    "pycharm": {
     "name": "#%%\n"
    },
    "scrolled": false
   },
   "outputs": [],
   "source": [
    "# Dictionnaire pour enregistrer les erreurs selon les \n",
    "# classifieurs\n",
    "erreurs = {}\n",
    "\n",
    "# Cette ligne crée une liste contenant toutes les paires possibles\n",
    "# entre les 4 mesures.\n",
    "# Par exemple : [(0, 1), (0, 2), (0, 3), (1, 2), (1, 3), (2, 3)]\n",
    "pairs = [(i, j) for i in range(4) for j in range(i+1, 4)]\n",
    "\n",
    "# Reprenons les paires de mesures\n",
    "fig, subfigs = plt.subplots(2, 3, tight_layout=True)\n",
    "t1 = time.time()\n",
    "for (f1, f2), subfig in zip(pairs, subfigs.reshape(-1)):\n",
    "    f1_name = iris.feature_names[f1]\n",
    "    f2_name = iris.feature_names[f2]\n",
    "    \n",
    "    # Créez ici un sous-dataset contenant seulement les\n",
    "    # mesures désignées par f1 et f2\n",
    "    subdataset = pandas.concat([iris.data[f1_name], iris.data[f2_name]], axis=1)\n",
    "    X = subdataset.values\n",
    "    R = iris.target.values\n",
    "\n",
    "    # Créez ici une grille permettant d'afficher les régions de\n",
    "    # décision pour chaque classifieur\n",
    "    h = .015\n",
    "    x_min, x_max = X[:, 0].min() - 1, X[:, 0].max() + 1\n",
    "    y_min, y_max = X[:, 1].min() - 1, X[:, 1].max() + 1\n",
    "    xx, yy = np.meshgrid(np.arange(x_min, x_max, h),\n",
    "                         np.arange(y_min, y_max, h))\n",
    "    \n",
    "    # Entraînez le classifieur\n",
    "    clf.fit(X, R)\n",
    "\n",
    "    # Obtenez et affichez son erreur (1 - accuracy)\n",
    "    err = 1 - clf.score(X, R)\n",
    "\n",
    "    # Ajout de l'erreur pour affichage\n",
    "    erreurs[f'{f1_name} {f2_name}'] = err\n",
    "\n",
    "    # Utilisez la grille que vous avez créée plus haut\n",
    "    # pour afficher les régions de décision, de même\n",
    "    # que les points colorés selon leur vraie classe\n",
    "    Y = clf.predict(np.c_[xx.ravel(), yy.ravel()])\n",
    "\n",
    "    cm = plt.cm.RdBu\n",
    "    colors = ['#FF0000', '#f2faf5', '#0000FF']\n",
    "    legend_labels = [\"Iris Setosa\", \"Iris Versicolore\", \"Iris Virginia\"]\n",
    "\n",
    "    Y = Y.reshape(xx.shape)\n",
    "    subfig.contourf(xx, yy, Y, cmap=cm, alpha=0.8)\n",
    "    scatter = subfig.scatter(X[:, 0], X[:, 1], c=np.array(colors)[R].tolist(), edgecolor = 'k', linewidths = 1.2)\n",
    "    subfig.set_xlim(xx.min(), xx.max())\n",
    "    subfig.set_ylim(yy.min(), yy.max())\n",
    "\n",
    "    # Identification des axes et des méthodes\n",
    "    red_patch = matplotlib.lines.Line2D([0], [0], marker='o', linestyle = 'None', markerfacecolor='red', \n",
    "                                        markersize=5, markeredgecolor='k', label=legend_labels[0])\n",
    "    white_patch = matplotlib.lines.Line2D([0], [0], marker='o', linestyle = 'None', markerfacecolor='white', \n",
    "                                          markersize=5, markeredgecolor='k', label=legend_labels[1])\n",
    "    blue_patch = matplotlib.lines.Line2D([0], [0], marker='o', linestyle = 'None', markerfacecolor='blue', \n",
    "                                         markersize=5, markeredgecolor='k', label=legend_labels[2])\n",
    "\n",
    "    subfig.legend(handles=[red_patch, white_patch, blue_patch], fontsize=7)\n",
    "    subfig.set_xlabel(f1_name)\n",
    "    subfig.set_ylabel(f2_name)\n",
    "\n",
    "\n",
    "# Affichage des erreurs\n",
    "df = pandas.DataFrame(erreurs, index=[\"KNN\"])\n",
    "display(df)"
   ]
  }
 ],
 "metadata": {
  "kernelspec": {
   "display_name": "Python 3 (ipykernel)",
   "language": "python",
   "name": "python3"
  },
  "language_info": {
   "codemirror_mode": {
    "name": "ipython",
    "version": 3
   },
   "file_extension": ".py",
   "mimetype": "text/x-python",
   "name": "python",
   "nbconvert_exporter": "python",
   "pygments_lexer": "ipython3",
   "version": "3.9.7"
  }
 },
 "nbformat": 4,
 "nbformat_minor": 1
}
